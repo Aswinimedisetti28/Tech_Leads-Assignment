{
  "nbformat": 4,
  "nbformat_minor": 0,
  "metadata": {
    "colab": {
      "provenance": [],
      "authorship_tag": "ABX9TyM+ERHRLyC+g0m3Et4E5X/n",
      "include_colab_link": true
    },
    "kernelspec": {
      "name": "python3",
      "display_name": "Python 3"
    },
    "language_info": {
      "name": "python"
    }
  },
  "cells": [
    {
      "cell_type": "markdown",
      "metadata": {
        "id": "view-in-github",
        "colab_type": "text"
      },
      "source": [
        "<a href=\"https://colab.research.google.com/github/Aswinimedisetti28/Tech_Leads-Assignment/blob/main/Assignment7.ipynb\" target=\"_parent\"><img src=\"https://colab.research.google.com/assets/colab-badge.svg\" alt=\"Open In Colab\"/></a>"
      ]
    },
    {
      "cell_type": "markdown",
      "source": [
        "# Exception Handling:\n",
        "1. Introduction to Exception Handling.\n",
        "2. Type of Errors.\n",
        "3. Nested try-except block & Default except for block.\n",
        "\n",
        "**1.Introduction to Exception Handling.**\n",
        "\n",
        "- Exception handling is a crucial aspect of programming that allows you to manage and gracefully recover from errors or exceptional situations that might occur during the execution of your code.\n",
        "\n",
        "- Python,  like many other programming languages, provide a robust mechanism for handling exceptions, ensuring that your programs don't crash abruptly when unexpected issues arise.\n",
        "\n",
        "- In python, exceptions are objects that represent errors or exceptional events that disrupt the normal flow of program execution.\n",
        "\n",
        "- These exceptions can be caused by various factors, such as invalid input, file not found, network issues , and more.\n",
        "\n",
        "- Exception handling weenables you to catch these exceptions, handle them appropriately, and continue executng the program.\n",
        "\n",
        "The basic structure of exception handling in python involves three main components:\n",
        "\n",
        "**1. try:** This block contains the code that might raise an exception. it is used to isolate the potentially problematic code.\n",
        "\n",
        "**2. except:** If an exception occurs within the `try` block, the code inside the associated `except` potentially problematic code.\n",
        "\n",
        "**3. finally:** This optional block is executed regardless of whether an exception was raised or not.\n",
        "\n",
        "It's often used for cleanup operations , such as closing files or releasing resources.\n",
        "\n",
        "- here's a simple example of exception handling in python:"
      ],
      "metadata": {
        "id": "BQYzctZjbrDh"
      }
    },
    {
      "cell_type": "code",
      "source": [
        "try:\n",
        "  num=int(input(\"Enter a number:\"))\n",
        "  result = 10/num\n",
        "  print(\"Result:\", result)\n",
        "except ZeroDivisionError:\n",
        "  print(\"Error: cannot divide by zero\")\n",
        "except ValueError:\n",
        "  print(\" Error: Invalid input, Please enter a valid number.\")\n",
        "finally:\n",
        "  print(\"Execution complete\")"
      ],
      "metadata": {
        "colab": {
          "base_uri": "https://localhost:8080/"
        },
        "id": "RUo2vN5BrcJn",
        "outputId": "329ab6a3-220e-4ea0-eb6e-1f0759ba4808"
      },
      "execution_count": null,
      "outputs": [
        {
          "output_type": "stream",
          "name": "stdout",
          "text": [
            "Enter a number:80\n",
            "Result: 0.125\n",
            "Execution complete\n"
          ]
        }
      ]
    },
    {
      "cell_type": "markdown",
      "source": [
        "**2. Types of errors:**\n",
        "\n",
        "In exception handling, errors are categorized into different types based on their origin and nature.\n",
        "\n",
        "These types of errors help developers identify and handle exceptions appropriately. in python, exceptions can be broadly into three main categories:\n",
        "\n",
        "**1.Syntax Errors:**\n",
        "- These errors occur when the code violates the syntax rules of the programming language. They prevent the program from begin executed and are usually detected by the python interpreter during the parsing phase befor the code is executed.\n",
        "\n",
        "- Syntax errors are also known as parsing errors\n",
        "\n",
        "\n",
        "\n",
        "\n",
        "\n"
      ],
      "metadata": {
        "id": "_afJ8YaSsqaO"
      }
    },
    {
      "cell_type": "code",
      "source": [
        "Print(\"Hello, world!\")\n",
        " #error is found"
      ],
      "metadata": {
        "id": "mdXIsdN84AAq"
      },
      "execution_count": null,
      "outputs": []
    },
    {
      "cell_type": "markdown",
      "source": [
        "In this case, the missing closing quotation mark will result in a syntax error.\n",
        "\n",
        "**2. Logical Errors:**\n",
        "\n",
        "- Logical errors occur when the code runs without any syntax issues, but it does not produce the expected or correct output. These errors stem from mistakes in the program's  logic and can be challenging to identify, as the program runs without any errors being raised."
      ],
      "metadata": {
        "id": "JoaIc09_4Llf"
      }
    },
    {
      "cell_type": "code",
      "source": [
        "def calculate_average(numbers):\n",
        "  total=sum(numbers)\n",
        "  average= total / len(numbers)\n",
        "  return average\n",
        "  #The logic error: using integer division instead of float division\n",
        "numbers=[10, 20, 30 40]\n",
        "avg=calculate_average(numbers)\n",
        "print(\"Average:\", avg) # Output will be incorrect due to the integer division"
      ],
      "metadata": {
        "id": "SemXRgL76eMj"
      },
      "execution_count": null,
      "outputs": []
    },
    {
      "cell_type": "markdown",
      "source": [
        "**3. Runtime Errors(Expecions):**\n",
        "- Runtime errors, also known as expections, occur during the execution of the program.\n",
        "- These errors arise when a specific condition is not met or when an unexpected event occurs while the code is runing.\n",
        "- python provides a mechanism for catching and handling these exceptions using try-except blocks.\n",
        "\n",
        "Examples of runtime errors include:\n",
        "- Division by zero(ZeroDivisionError)\n",
        "- Trying to access an index that is out of range(indexError)\n",
        "- Attempting to convert a non-numeric string to an integer(ValueError)\n",
        "- Opening a file that doesn't exist(FileNotFoundError)\n",
        "\n",
        "In python, you can use the `try` , `except` , `else` , and `finally` statements to handle runtime errors gracefully. By using exception handling, you can prevent your program from crashing and ...\n",
        "\n",
        "provide more informative error messages to users or developers, which aids in debugging and troubleshooting.\n",
        "\n",
        "**3. Nested try-except block & Default except for block:**\n",
        "\n",
        "**3.1 Nested try-except block:**\n",
        "\n",
        "A nested `try`-`except` block is a structure where one `try` block is placed within another `try` block. This allows you to handle exceptions at different levels of the code, providing more specific handling for different situations.\n",
        "\n",
        "Here's an example of nested `try`-`except` blocks:\n",
        "\n"
      ],
      "metadata": {
        "id": "vjiIIAPr7nNJ"
      }
    },
    {
      "cell_type": "code",
      "source": [
        "try:\n",
        "  outer_value = int(input(\"Enter a number: \"))\n",
        "  try:\n",
        "    inner_value = 10 / outer_value\n",
        "    print(\"Result:\", inner_value)\n",
        "  except ZeroDivisionError:\n",
        "      print(\"Error: Cannot divide by zero\")\n",
        "except ValueError:\n",
        "  print(\"Error: Invalid input. Please enter a valid number.\")\n"
      ],
      "metadata": {
        "colab": {
          "base_uri": "https://localhost:8080/"
        },
        "id": "bcSuSR43IOIU",
        "outputId": "c3d4b2ef-0188-4f08-a392-ceea4de2927d"
      },
      "execution_count": null,
      "outputs": [
        {
          "output_type": "stream",
          "name": "stdout",
          "text": [
            "Enter a number: 45\n",
            "Result: 0.2222222222222222\n"
          ]
        }
      ]
    },
    {
      "cell_type": "markdown",
      "source": [
        "In this example:\n",
        "\n",
        "- The outer `try` block captures a `ValueError` if the input cannot be converted to an integer.\n",
        "- Inside the outer `try` block, there's an inner `try` block that captures a `zeroDivisionError` if the division operation encounters a zero division.\n",
        "\n",
        "**Default except Block:**\n",
        "\n",
        "A default `except` block is used to catch any exceptions that are not caught by the preceding `except` blocks. it's  usually placed at the end of a series of specific `except` blocks.\n",
        "\n",
        "Here's an example with a default ` except` block:\n"
      ],
      "metadata": {
        "id": "v_KeTXuRJ_fT"
      }
    },
    {
      "cell_type": "code",
      "source": [
        "try:\n",
        "  value =int(input(\"Enter a number:\"))\n",
        "  result = 10/value\n",
        "  print(\"Result:\", result)\n",
        "except ZeroDivisionError:\n",
        "  print(\"Error: cannot divide by zero\")\n",
        "except ValueError:\n",
        "  print(\"Error: Invalid input. please enter a valid number.\")\n",
        "except:\n",
        "  print(\"An unexpected error occurred\")"
      ],
      "metadata": {
        "colab": {
          "base_uri": "https://localhost:8080/"
        },
        "id": "hpjciVzIMVXf",
        "outputId": "c200c4a1-18f7-4db6-dd31-903802b6e8a2"
      },
      "execution_count": null,
      "outputs": [
        {
          "output_type": "stream",
          "name": "stdout",
          "text": [
            "Enter a number:0\n",
            "Error: cannot divide by zero\n"
          ]
        }
      ]
    },
    {
      "cell_type": "markdown",
      "source": [
        "In this example, the last `except` block without a specified exception type will catch  any other exceptions that were not caught by the previous specific `except` blocks."
      ],
      "metadata": {
        "id": "bcDfKTAYOGth"
      }
    }
  ]
}