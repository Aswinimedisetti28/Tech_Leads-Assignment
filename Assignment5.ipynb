{
  "nbformat": 4,
  "nbformat_minor": 0,
  "metadata": {
    "colab": {
      "provenance": [],
      "authorship_tag": "ABX9TyPvaqG9v0DOQzT/hxF/fIw4",
      "include_colab_link": true
    },
    "kernelspec": {
      "name": "python3",
      "display_name": "Python 3"
    },
    "language_info": {
      "name": "python"
    }
  },
  "cells": [
    {
      "cell_type": "markdown",
      "metadata": {
        "id": "view-in-github",
        "colab_type": "text"
      },
      "source": [
        "<a href=\"https://colab.research.google.com/github/Aswinimedisetti28/Tech_Leads-Assignment/blob/main/Assignment5.ipynb\" target=\"_parent\"><img src=\"https://colab.research.google.com/assets/colab-badge.svg\" alt=\"Open In Colab\"/></a>"
      ]
    },
    {
      "cell_type": "markdown",
      "source": [
        "# concepts in python:\n",
        "\n",
        "**1.sets:**\n",
        "\n",
        "•\tUnderstanding sets and their unique elements.\n",
        "\n",
        "•\tCreating sets and basic set operations (union, intersection, etc.).\n",
        "\n",
        "**2.Input and Output (I/O):**\n",
        "\n",
        "•\tReading input from users (input function).\n",
        "\n",
        "•\tWriting output to the console (print function).\n",
        "\n",
        "•\tReading and writing to files.\n",
        "\n",
        "**3. Additional Work:**\n",
        "\n",
        "Learn how to take input from user for lists in different ways.\n",
        "\n",
        "**1.sets:**\n",
        "\n",
        "**1.1** Sets in python are a data structure used to store a collection of unique elements. A set is similar to a list or a tuple , but it doesn't allow duplicate values. sets are useful when you need to store a group of items where the order doesn't matter , and you want to ensure that each item is unique .\n",
        "\n",
        "Here's an overview of sets and their unique elements in python:\n",
        "\n",
        "**1.2 Creating Sets:**\n",
        "\n",
        "You can create a set using curly braces `{}` or the bulit-in `set()` constructor with an iterable(like a list, tuple. or string).\n",
        "\n",
        "**Source code:**\n",
        "\n",
        "\n",
        "\n",
        "\n",
        "\n",
        "\n"
      ],
      "metadata": {
        "id": "-1YMo-_Pjq3M"
      }
    },
    {
      "cell_type": "code",
      "source": [
        "#using a list\n",
        "x={1, 2, 3}\n",
        "x1=set([3, 7, 9])\n",
        "print(x1)\n"
      ],
      "metadata": {
        "colab": {
          "base_uri": "https://localhost:8080/"
        },
        "id": "C1L6lzCOnrEv",
        "outputId": "c8a83e0b-6490-4f03-be16-1029285530ed"
      },
      "execution_count": null,
      "outputs": [
        {
          "output_type": "stream",
          "name": "stdout",
          "text": [
            "{9, 3, 7}\n"
          ]
        }
      ]
    },
    {
      "cell_type": "code",
      "source": [
        "#using a tuple\n",
        "x=set((5, 6, 0))\n",
        "print(x)"
      ],
      "metadata": {
        "colab": {
          "base_uri": "https://localhost:8080/"
        },
        "id": "oOQuLD0gog50",
        "outputId": "0fbd6f34-e4a6-4661-acb4-fedc425f8232"
      },
      "execution_count": null,
      "outputs": [
        {
          "output_type": "stream",
          "name": "stdout",
          "text": [
            "{0, 5, 6}\n"
          ]
        }
      ]
    },
    {
      "cell_type": "markdown",
      "source": [
        "**Unique Elements:**\n",
        "\n",
        "A set automatically ensures that each element is unique. if you try to add a duplicate element to a set, it won't be added , and the set will remain uncharged.\n",
        "\n",
        "**Example:**\n",
        "\n",
        "x={1, 2, 30, 40, 60, 1000} #creates a set with only unique elements:{1, 2, 30, 40, 60, 1000}\n",
        "\n",
        "**Adding and Removing elements:**\n",
        "\n",
        "You can add elements to a set using the `add()` method and remove elements using the `remov()` 0r discard()` methods.\n",
        "\n",
        "**Source code:**\n",
        "\n",
        "\n",
        "\n",
        "\n",
        "\n"
      ],
      "metadata": {
        "id": "0N7A6XDJpRaF"
      }
    },
    {
      "cell_type": "code",
      "source": [
        "#add elements in set\n",
        "x={10,30, 50, 1000}\n",
        "#adds element 46 to the set\n",
        "x.add(46)\n",
        "print(x)"
      ],
      "metadata": {
        "colab": {
          "base_uri": "https://localhost:8080/"
        },
        "id": "JpNFol-4rzar",
        "outputId": "c161280d-4b6b-4e26-a722-33458af57d18"
      },
      "execution_count": null,
      "outputs": [
        {
          "output_type": "stream",
          "name": "stdout",
          "text": [
            "{1000, 10, 46, 50, 30}\n"
          ]
        }
      ]
    },
    {
      "cell_type": "markdown",
      "source": [],
      "metadata": {
        "id": "mCllg8Metaxm"
      }
    },
    {
      "cell_type": "code",
      "source": [
        "#remove element in set\n",
        "x={10, 100, 40, 50}\n",
        "x.remove(40)\n",
        "print(x)"
      ],
      "metadata": {
        "colab": {
          "base_uri": "https://localhost:8080/"
        },
        "id": "KrINslAatcp6",
        "outputId": "02cd0479-98f4-4431-9305-cde9b95e00b0"
      },
      "execution_count": null,
      "outputs": [
        {
          "output_type": "stream",
          "name": "stdout",
          "text": [
            "{10, 100, 50}\n"
          ]
        }
      ]
    },
    {
      "cell_type": "code",
      "source": [
        "#discard element in set\n",
        "x={10, 30, 40, 50}\n",
        "x.discard(30)\n",
        "print(x)\n",
        "\n",
        "\n"
      ],
      "metadata": {
        "colab": {
          "base_uri": "https://localhost:8080/"
        },
        "id": "US57kPo4uQ7W",
        "outputId": "426aa966-6bdd-430e-8b23-f21f5ba54ced"
      },
      "execution_count": null,
      "outputs": [
        {
          "output_type": "stream",
          "name": "stdout",
          "text": [
            "{40, 10, 50}\n"
          ]
        }
      ]
    },
    {
      "cell_type": "markdown",
      "source": [
        "**Set Operation:**\n",
        "\n",
        "Sets support various set operation like union, intersection, and difference.\n",
        "\n",
        "**Source code:**\n",
        "\n",
        "x={100, 1000, 200,  2000}\n",
        "\n",
        "x1={10, 20, 50}\n",
        "\n",
        "\n"
      ],
      "metadata": {
        "id": "en3pvxlewZxz"
      }
    },
    {
      "cell_type": "code",
      "source": [
        "from typing import Union\n",
        "#union example\n",
        "x={100, 1000, 200, 2000}\n",
        "x1={10, 300}\n",
        "Union=x|x1\n",
        "print(Union)\n"
      ],
      "metadata": {
        "colab": {
          "base_uri": "https://localhost:8080/"
        },
        "id": "19pucHlrxbhc",
        "outputId": "70f520aa-8c05-4503-992b-53b17de5d6c0"
      },
      "execution_count": null,
      "outputs": [
        {
          "output_type": "stream",
          "name": "stdout",
          "text": [
            "{2000, 100, 1000, 10, 300, 200}\n"
          ]
        }
      ]
    },
    {
      "cell_type": "markdown",
      "source": [],
      "metadata": {
        "id": "5udZTleUycpa"
      }
    },
    {
      "cell_type": "code",
      "source": [
        "#Intersection\n",
        "x={\"swa\", \"asw\", \"vbr\"}\n",
        "x1={\"dora\", \"asw\"}\n",
        "intersection=x & x1\n",
        "print(intersection)"
      ],
      "metadata": {
        "colab": {
          "base_uri": "https://localhost:8080/"
        },
        "id": "BKRtXxMAydXg",
        "outputId": "4fdd5e0c-30ca-4f0f-d85c-f0486cad1928"
      },
      "execution_count": null,
      "outputs": [
        {
          "output_type": "stream",
          "name": "stdout",
          "text": [
            "{'asw'}\n"
          ]
        }
      ]
    },
    {
      "cell_type": "code",
      "source": [
        "#difference\n",
        "x={'k', 'd', 'w'}\n",
        "x1={'h', 'b', 'w'}\n",
        "difference = x - x1\n",
        "print(difference)"
      ],
      "metadata": {
        "colab": {
          "base_uri": "https://localhost:8080/"
        },
        "id": "9EKZH1awzXmz",
        "outputId": "8accd7c8-dfec-46e2-e411-c9dca8f81c4e"
      },
      "execution_count": null,
      "outputs": [
        {
          "output_type": "stream",
          "name": "stdout",
          "text": [
            "{'d', 'k'}\n"
          ]
        }
      ]
    },
    {
      "cell_type": "markdown",
      "source": [
        "**Membership Testing:**\n",
        "\n",
        "You  can check if an element is present in a set using the `in` keyword.\n",
        "\n",
        "**Source code:**\n"
      ],
      "metadata": {
        "id": "TKuBrXHm0nFk"
      }
    },
    {
      "cell_type": "code",
      "source": [
        "#Membership\n",
        "x={4, 5, 6}\n",
        "is_present= 2 in x\n",
        "print(is_present)"
      ],
      "metadata": {
        "colab": {
          "base_uri": "https://localhost:8080/"
        },
        "id": "hkIWygPWxYMu",
        "outputId": "9160f693-77bb-4efb-ca2e-77c682170fc2"
      },
      "execution_count": null,
      "outputs": [
        {
          "output_type": "stream",
          "name": "stdout",
          "text": [
            "False\n"
          ]
        }
      ]
    },
    {
      "cell_type": "markdown",
      "source": [
        "sets are particularly useful when you need to work witn collections of unique elements , perform set operations, or remove duplicates from other collections. They are widely used to solve problems involving membership , set arithmetic , and distinct values.\n",
        "\n",
        "**2.Input and output(i/o):**\n",
        "\n",
        "Input and output(i/o)operations are essential aspects of programming, allowing you to interact with users and process data. in python , you can use various functions to handle input and output tasks.\n",
        "\n",
        "**Input:**\n",
        "\n",
        "**1.`input(prompt)`:**\n",
        "\n",
        "The `input()` function is used to recive user input. it displays the specified (a string) to the user and waits for them to type something . the user's input is returned as a string.\n",
        "\n",
        "**Example:**\n",
        "\n",
        "name = input(\"Enter your name: \")\n",
        "age = input(\"Enter your age: \")\n",
        "\n",
        "**2.Converting input to other types:**\n",
        "\n",
        "Since `input()' returns a string, you often need to convert it to other data types(e.g., integer , float) for calculations\n",
        "\n",
        "**Example:**\n",
        "\n",
        "age=int(input(\"Enter your age:\")) #converts input to an integer\n",
        "\n",
        "**Output:**\n",
        "\n",
        "**1.print(*objects, sep=' ', end='\\n'):**\n",
        "\n",
        "The `print()` function is used to display output on the screen. it takes one or more argumenrts(objects)and prints them to the console. the `sep` parameter specifies the separators between objects, and the `end` parameter defines what should be printed at the end(default is a newline)\n",
        "\n",
        "**Python Source Code:**\n",
        "\n",
        "\n",
        "\n",
        "\n",
        "\n",
        "\n",
        "\n",
        "\n",
        "\n",
        "\n",
        "\n"
      ],
      "metadata": {
        "id": "uf05HVt629Q-"
      }
    },
    {
      "cell_type": "code",
      "source": [],
      "metadata": {
        "id": "5odizjKHV8RX"
      },
      "execution_count": null,
      "outputs": []
    },
    {
      "cell_type": "code",
      "source": [
        "name=\"catty\"\n",
        "age=29\n",
        "print(\"Name:\", name, \"Age:\", age)"
      ],
      "metadata": {
        "colab": {
          "base_uri": "https://localhost:8080/"
        },
        "id": "Ar7gAL0YV8Uo",
        "outputId": "f309b0b6-0e5b-40bb-eadf-fb686c46c850"
      },
      "execution_count": null,
      "outputs": [
        {
          "output_type": "stream",
          "name": "stdout",
          "text": [
            "Name: catty Age: 29\n"
          ]
        }
      ]
    },
    {
      "cell_type": "markdown",
      "source": [
        "**2.Formatted strings:**\n",
        "\n",
        "You can use formatted strings to include variables and expressions in your output.\n",
        "\n",
        "**Source code:**\n",
        "\n",
        "\n"
      ],
      "metadata": {
        "id": "jha1KHqrWlH-"
      }
    },
    {
      "cell_type": "code",
      "source": [
        "#format\n",
        "name = \"ASW\"\n",
        "age= 19\n",
        "print(f\"My name is {name} and I am {age} years old.\")\n",
        "\n"
      ],
      "metadata": {
        "colab": {
          "base_uri": "https://localhost:8080/"
        },
        "id": "wO-KGtvrXwXH",
        "outputId": "2ef10c7f-dbca-4c60-9476-29f2d6bb28d5"
      },
      "execution_count": null,
      "outputs": [
        {
          "output_type": "stream",
          "name": "stdout",
          "text": [
            "My name is ASW and I am 19 years old.\n"
          ]
        }
      ]
    },
    {
      "cell_type": "markdown",
      "source": [
        "**File I/O:**\n",
        "\n",
        "python also provides mechanisms to read from and write to files.\n",
        "\n",
        "**1.Reading from a file:**\n",
        "\n",
        "**.`open(filename, mode)`:**\n",
        "\n",
        "The `open()` function is used to open a file. the `mode()` parameter specifies the file access mode(e.g., `I` for reading)\n",
        "\n",
        "**`read():`**\n",
        "\n",
        "After opening a file in read mode, you can use the `read()` method to read the file's contents.\n",
        "\n",
        "**Source code:**\n",
        "\n",
        "file = open(\"example.txt\", \"r\")\n",
        "\n",
        "content = file. read()\n",
        "\n",
        "**2 Writing to a file:**\n",
        "\n",
        "**.open(filename, mode)`:**\n",
        "\n",
        "The `open()` function is also used to open a file for writing(e.g., `'w'` mode).\n",
        "\n",
        "**.write(text):**\n",
        "\n",
        "After opening a file in write mode, you can use the `write()` method to write text to the file.\n",
        "\n",
        "**Source code:**\n",
        "\n",
        "\n",
        "\n",
        "\n",
        "\n",
        "\n",
        "\n",
        "\n",
        "\n"
      ],
      "metadata": {
        "id": "FvORetZbZtKv"
      }
    },
    {
      "cell_type": "code",
      "source": [
        "file=open(\"output.txt\", \"w\")\n",
        "file.write(\"This is some text written to the file.\")\n",
        "file.close()\n"
      ],
      "metadata": {
        "id": "LuK-G56dhfaT"
      },
      "execution_count": null,
      "outputs": []
    },
    {
      "cell_type": "markdown",
      "source": [
        "Remember to close files after you're done with them to free up system resource. alternatively, you can use a `with` statement  to a automatically close the file when the block is exited.\n",
        "\n",
        "these are the basic input and output operations in python. they are crucial for creating interactive programs, processing data, and interacting with files and external resources.\n",
        "\n",
        "**3.How to take from user for lists in different ways:**\n",
        "\n",
        "You can take input from the user for lists in different ways using various techniques. Here are a few common methods:\n",
        "\n",
        "**1. Using a loop:**\n",
        "\n",
        "you can use a loop to repeatedly take  input from the user nd append the values to a list. this is useful when you want the user to input a specific of elements.\n",
        "\n",
        "**Source code:**\n",
        "\n",
        "\n",
        "\n",
        "\n",
        "\n"
      ],
      "metadata": {
        "id": "3wLCw-rwiiZF"
      }
    },
    {
      "cell_type": "code",
      "source": [
        "num_elements=int(input(\"Enter the number of elements: \"))\n",
        "list=[]\n",
        "for i in range(num_elements):\n",
        "    val=int(input(\"Enter a number:\"))\n",
        "    list.append(val)\n",
        "print(\"list:\", list)\n"
      ],
      "metadata": {
        "colab": {
          "base_uri": "https://localhost:8080/"
        },
        "id": "mkorhgqLUsfi",
        "outputId": "975fe9c6-a4fa-42d8-e909-f21372701ce7"
      },
      "execution_count": null,
      "outputs": [
        {
          "output_type": "stream",
          "name": "stdout",
          "text": [
            "Enter the number of elements: 4\n",
            "Enter a number:2\n",
            "Enter a number:5\n",
            "Enter a number:7\n",
            "Enter a number:9\n",
            "list: [2, 5, 7, 9]\n"
          ]
        }
      ]
    },
    {
      "cell_type": "markdown",
      "source": [
        "**2. using a list comprehension:**\n",
        "\n",
        "You can use a list comprehension to take input from the user in a concise way.\n",
        "\n",
        "**Source code:**\n",
        "\n"
      ],
      "metadata": {
        "id": "YljWZ5RYXUFE"
      }
    },
    {
      "cell_type": "code",
      "source": [
        "num_elements=int(input(\"enter the number of elemets:\"))\n",
        "list=[int(input(\"Enter a number:\")) for i in range(num_elements)]\n",
        "print(\"list:\", list)\n"
      ],
      "metadata": {
        "colab": {
          "base_uri": "https://localhost:8080/"
        },
        "id": "UVvUb-a9X3mE",
        "outputId": "fa30410a-08cf-48d5-fcc0-76404fc9e9f4"
      },
      "execution_count": null,
      "outputs": [
        {
          "output_type": "stream",
          "name": "stdout",
          "text": [
            "enter the number of elemets:3\n",
            "Enter a number:10\n",
            "Enter a number:25\n",
            "Enter a number:50\n",
            "list: [10, 25, 50]\n"
          ]
        }
      ]
    },
    {
      "cell_type": "markdown",
      "source": [
        "**3.Using `split()` and `map()`:**\n",
        "\n",
        "You can take a space-separated input from the user and convert it into a list of integers using `split()` and `map()` functions.\n",
        "\n",
        "**source code:**\n",
        "\n",
        "input_str=input(\"enter a space_separated numbers:\")\n",
        "\n",
        "my_list=[int, for i in input_str.split()]\n",
        "\n",
        "print(\"list:\", my_list)\n",
        "\n",
        "**output:**\n",
        "\n",
        "enter a space_separated numbers:2 3 4 6\n",
        "\n",
        "[2, 3, 4, 6]\n"
      ],
      "metadata": {
        "id": "p8iuRQ0YYvti"
      }
    },
    {
      "cell_type": "markdown",
      "source": [
        "**4.Using `split()` and list comprehension:**\n",
        "\n",
        "Similar to the previous method, you can achieve the same result using a list comprehension.\n",
        "\n",
        "**Source code:**\n",
        "\n",
        "\n",
        "\n"
      ],
      "metadata": {
        "id": "NAudxEYVbw9h"
      }
    },
    {
      "cell_type": "code",
      "source": [
        "input_str=input(\"enter space_separated numbers\")\n",
        "my_list=[int(x)  for x in input_str.split()]\n",
        "print(\"list:\", my_list)"
      ],
      "metadata": {
        "id": "Lm74c__rgBdk"
      },
      "execution_count": null,
      "outputs": []
    },
    {
      "cell_type": "markdown",
      "source": [
        "These methoods allow you to take user input and create lists in various ways. choose the methid that best fits your specific use case ."
      ],
      "metadata": {
        "id": "BW9y6ycKehHF"
      }
    }
  ]
}