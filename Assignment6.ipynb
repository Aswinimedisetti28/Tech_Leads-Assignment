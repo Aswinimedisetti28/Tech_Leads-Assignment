{
  "nbformat": 4,
  "nbformat_minor": 0,
  "metadata": {
    "colab": {
      "provenance": [],
      "authorship_tag": "ABX9TyO5lyoR6b7SDmgGXUNhhPVZ",
      "include_colab_link": true
    },
    "kernelspec": {
      "name": "python3",
      "display_name": "Python 3"
    },
    "language_info": {
      "name": "python"
    }
  },
  "cells": [
    {
      "cell_type": "markdown",
      "metadata": {
        "id": "view-in-github",
        "colab_type": "text"
      },
      "source": [
        "<a href=\"https://colab.research.google.com/github/Aswinimedisetti28/Tech_Leads-Assignment/blob/main/Assignment6.ipynb\" target=\"_parent\"><img src=\"https://colab.research.google.com/assets/colab-badge.svg\" alt=\"Open In Colab\"/></a>"
      ]
    },
    {
      "cell_type": "code",
      "execution_count": null,
      "metadata": {
        "id": "jeTY-f3E-uGl"
      },
      "outputs": [],
      "source": []
    },
    {
      "cell_type": "markdown",
      "source": [
        "#Functions\n",
        "1. Parameters vs Arguments.\n",
        "2. Namespace vs scope.\n",
        "3. Function\n",
        "\n",
        "  call vs Function referencing.\n",
        "**1.Parameters vs Arguments.**\n",
        "\n",
        "*In python, the terms `parameters` and `arguments` are often used when discussing functions, but they refer to slightly different concepts.\n",
        "\n",
        "**1.Parameters:**\n",
        "\n",
        "**Parameters are placeholders or symbols used in the function to represent the values that a function expects to recive when it is called. They are the names you define in the function,s parentheses during the function creation.  \n",
        "\n",
        "**Parameters define the input structure of a function and are used within the function's body to perform operations or computations.\n",
        "\n",
        "\n",
        "\n",
        "\n"
      ],
      "metadata": {
        "id": "BpkHuFAL-z32"
      }
    },
    {
      "cell_type": "code",
      "source": [
        "def add_numbers(a, b):\n",
        "    return a+b"
      ],
      "metadata": {
        "id": "BVHuBLR-DX2l"
      },
      "execution_count": null,
      "outputs": []
    },
    {
      "cell_type": "markdown",
      "source": [
        "In this function, `a` and `b` are parameters . they serve as placeholders for the actual values that will be provied when the function is called.\n",
        "\n",
        "**1.Arguments:**\n",
        "\n",
        "**Arguments, on the other hand , are the or expressions that are passed to a function when it is called. When you call a function, you provide the arguments, which are then assigned to the corresponding parameters defined in the function's parameter list.\n",
        "\n",
        "**Here's an example of calling the `add_numbers` function and providing arguments:\n"
      ],
      "metadata": {
        "id": "IpwmtqhsD0QK"
      }
    },
    {
      "cell_type": "code",
      "source": [
        "result=add_numbers(3, 5)"
      ],
      "metadata": {
        "id": "Pz27qqaKFaIC"
      },
      "execution_count": null,
      "outputs": []
    },
    {
      "cell_type": "markdown",
      "source": [
        "**In the example, `3` and `51` are arguments that are passed to the `add_numbers` function.\n",
        "\n",
        "**These arg's are then assigned to thee `a` and `b` parameters, respectively , within the function's execution.\n",
        "\n",
        "**To Summarize:**\n",
        "\n",
        ". parameters are defined in the function's and act as placeholders for the expected input.\n",
        "\n",
        ".Arguments are the actual values or expressions that you pass to the function hen you call it.\n",
        "\n",
        "**2.Namespace vs Scope:**\n",
        "\n",
        "**In python, both `namespace` and `scope` are important concepts related to how variables are organized and accessed. They are closely related but refer to slightly different aspects of variable management within the language.\n",
        "\n",
        "**2.1Namespace:**\n",
        "\n",
        ".A namespace is a container that holds a set of identifiers(such as variable names, function name , class names, etc.)along with their corresponding objects (values, function, classes, etc.)\n",
        "\n",
        ".It provides a way to organize and differentiate between different identifiers to avoid naming conflicts .\n",
        "\n",
        ".Each namespace is associated with a specific context, like a module , a class, or a function.\n",
        "\n",
        "-python has various namespaces, including the global namespace(module-level).\n",
        "\n",
        "-local namespace(fumction-level), and namespace associated with classes.\n",
        "\n",
        "-Namespaces are implemented as dictionaries, where the keys are the identifiers(variable names)and\n",
        "\n",
        "-the values are the associated objects(variable values, function , etc.).\n",
        "\n",
        "\n",
        "\n",
        "\n",
        "\n",
        "\n",
        "\n",
        "\n",
        "\n"
      ],
      "metadata": {
        "id": "qbwXNXUHFmJV"
      }
    },
    {
      "cell_type": "code",
      "source": [
        "#global namespace\n",
        "global_variable=10\n",
        "def my_function():\n",
        "  #Local namespace\n",
        "  local_variable=5\n",
        "  print(\"Local variable inide the function:\", local_variable)\n",
        "  print(\"Global variable inside the function:\",global_variable)\n",
        "my_function()\n",
        "print(\"Global variable outside the function:\", global_variable)"
      ],
      "metadata": {
        "colab": {
          "base_uri": "https://localhost:8080/"
        },
        "id": "rHrRFWEiJKyh",
        "outputId": "d0c997e6-db6f-40b6-e8cd-8474696b3d1e"
      },
      "execution_count": null,
      "outputs": [
        {
          "output_type": "stream",
          "name": "stdout",
          "text": [
            "Local variable inide the function: 5\n",
            "Global variable inside the function: 10\n",
            "Global variable outside the function: 10\n"
          ]
        }
      ]
    },
    {
      "cell_type": "markdown",
      "source": [
        "**In this example:\n",
        "\n",
        "1. `global_variable` in the global namespace. it's accessible both inside and outside the function.\n",
        "2. `my_function` defines its own local namespace with ` local_variable`. this variable is only accessible within the function.\n",
        "3. Inside the function, both the local variable(`local_variable`) and the global variable (`global_variable`)are accessible.\n",
        "4. Outside the function, only the global avriable (`global_variable`)is accessible.\n",
        "\n",
        "Attempting to accesss `local_variable`  outside the function would result in an error since it's not define in the global namespace.\n",
        "\n",
        "**2.2Scope:**\n",
        "\n",
        "**Scope refers to the region of code  where a particular namespace  is directly accessible and where variables can be referred to without needing to quality them with their full namespace path. scopes define the visibility and lifetime of variables.\n",
        "\n",
        "**Python has four main levels of scope:**\n",
        "1. **Local scope:**Variables defined within a function. They are only accessible within that function.\n",
        "2. **Enclosing scope:**Pertains to nested fuctions. variables defineddd in an outer function and used in an inner function belong to the enclosing scope.\n",
        "3. **Global scope:**Variables defined at the top level opf a module or explicitly marked as global. They are accessible throughout the module.\n",
        "4. **Bulit-in scope:**Contains all the bulit_in python functions and types. These are available anywhere in the code.\n",
        "\n"
      ],
      "metadata": {
        "id": "5I914yW0Kivu"
      }
    },
    {
      "cell_type": "code",
      "source": [
        "#Global scope\n",
        "global_variable=10\n",
        "def outer_function():\n",
        "  outer_variable=20 # Enclosing scope\n",
        "  def inner_function():\n",
        "      inner_variable=30 # Local scope\n",
        "      print(\"Innr variable:\", inner_variable)\n",
        "      print(\"Outer variable inside inner function:\", outer_variable)\n",
        "      print(\"Global variable inside inner function function:\", global_variable)\n",
        "      inner_function()\n",
        "      print(\"Outer variable:\", outer_variable)\n",
        "outer_function()\n",
        "print(\"Global variable:\", global_variable)"
      ],
      "metadata": {
        "colab": {
          "base_uri": "https://localhost:8080/"
        },
        "id": "Lci_PuEFO7dp",
        "outputId": "f067736b-e734-4bf3-8244-924a9a1302bc"
      },
      "execution_count": null,
      "outputs": [
        {
          "output_type": "stream",
          "name": "stdout",
          "text": [
            "Global variable: 10\n"
          ]
        }
      ]
    },
    {
      "cell_type": "markdown",
      "source": [
        "The concept of scope is closely related to the concept of namespaces, as each scope is associated with a specific namespace.\n",
        "\n",
        "when you reference a variable in your code, python searches for it in the current scope and tthen looks in the enclosing, global, and ...\n",
        "\n",
        "bulit-in scope, in that order, until the variable is found or the search fails.\n",
        "\n",
        "**In summary:**\n",
        "\n",
        ".**Namespace:**\n",
        "\n",
        "A container that holds identifiers and their associated objects.\n",
        "\n",
        ".**Scope:**\n",
        "\n",
        "The region of code where a particular namespace is directly accesible and where variables can be referred to without qualification.\n",
        "\n",
        "**Understanding both namespace and scopes is crucial foe writing organized, modular, and maintainable python code.**\n",
        "\n",
        "**3.Function call vs Function referencing:**\n",
        "\n",
        "In python, `function call` and `function referencing` refer to two different aspects of working with functions.\n",
        "\n",
        "**3.1 Function call:**\n",
        "\n",
        "->A function call is the act of invoking a function with a set  of arguments, causing the function's code to be executed .\n",
        "\n",
        "->When you call a function, you provide the required arguments(if any) within parentheses. The funcion's body is executed and it can perform actions, calculation, and return values.\n",
        "\n",
        "Here,s an example of  function call:\n",
        "\n",
        "\n",
        "\n",
        "\n",
        "\n"
      ],
      "metadata": {
        "id": "FFKblZtgR-x0"
      }
    },
    {
      "cell_type": "code",
      "source": [
        "def add(a, b):\n",
        "  return a+b\n",
        "result = add(5, 6) # Function call with arguments 5 and 6\n",
        "print(result) #output: 11"
      ],
      "metadata": {
        "colab": {
          "base_uri": "https://localhost:8080/"
        },
        "id": "X_qSHYBsW79t",
        "outputId": "ecf95542-c4e8-4378-fbce-337ca4503339"
      },
      "execution_count": null,
      "outputs": [
        {
          "output_type": "stream",
          "name": "stdout",
          "text": [
            "11\n"
          ]
        }
      ]
    },
    {
      "cell_type": "markdown",
      "source": [
        "In this example, `add(3, 5)` is a function call that computes the sum of 5 and 6 and assigns the result to the `result` variable.\n",
        "\n",
        "**3.2Function Referencing:**\n",
        "\n",
        "->Function referencing involves treating a function as an object, just like any other variable.\n",
        "\n",
        "-> You can assign a function to a variable, pass it as an argument to another function, or return it from a function.\n",
        "\n",
        "->This allows  you to work with function in a more dynamic and flexible manner.\n",
        "\n",
        "Here's an example of function referencing:\n",
        "\n"
      ],
      "metadata": {
        "id": "pkSyPMNGYTZY"
      }
    },
    {
      "cell_type": "code",
      "source": [
        "def greet(name):\n",
        "  return f\"Hello, {name}!\"\n",
        "def farewell(name):\n",
        "  return f\"Goodbye, {name}!\"\n",
        "message_function= greet #Assign the function greet to a variable\n",
        "print(message_function(\"Aswini\"))\n",
        "message_function=farewell #Reassign the variable to another function\n",
        "print(message_function(\"Bob\"))"
      ],
      "metadata": {
        "colab": {
          "base_uri": "https://localhost:8080/"
        },
        "id": "JMkeQcInZwba",
        "outputId": "4e118d20-49f1-4ffb-d3cf-61a93fa2ea01"
      },
      "execution_count": null,
      "outputs": [
        {
          "output_type": "stream",
          "name": "stdout",
          "text": [
            "Hello, Aswini!\n",
            "Goodbye, Bob!\n"
          ]
        }
      ]
    },
    {
      "cell_type": "markdown",
      "source": [
        "In this example, the `message_function` variable is used to reference either the `greet` function or the `farewell` function. This allows you to switch between differentfunctions based on the context.\n",
        "\n",
        "Function referencing is alsso commonly used when passing functions as arguments to higer-order function like `map`, `filter`, or `sorted`.\n",
        "\n",
        "**To summarize:**\n",
        "\n",
        ".**Function call:**\n",
        "\n",
        "Invoking a function with arguments to execute its code and possibly return a value.\n",
        "\n",
        ".**Function Referencing:**\n",
        "\n",
        "Treating a function as an object by assignment it to variables, passing it as an argument, or returning it from another function.\n",
        "\n",
        ".This provides flexibility in function usage and manipulation."
      ],
      "metadata": {
        "id": "Ot7zBMHjbOBV"
      }
    }
  ]
}