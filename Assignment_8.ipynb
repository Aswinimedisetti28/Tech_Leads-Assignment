{
  "nbformat": 4,
  "nbformat_minor": 0,
  "metadata": {
    "colab": {
      "provenance": [],
      "include_colab_link": true
    },
    "kernelspec": {
      "name": "python3",
      "display_name": "Python 3"
    },
    "language_info": {
      "name": "python"
    }
  },
  "cells": [
    {
      "cell_type": "markdown",
      "metadata": {
        "id": "view-in-github",
        "colab_type": "text"
      },
      "source": [
        "<a href=\"https://colab.research.google.com/github/Aswinimedisetti28/Tech_Leads-Assignment/blob/main/Assignment_8.ipynb\" target=\"_parent\"><img src=\"https://colab.research.google.com/assets/colab-badge.svg\" alt=\"Open In Colab\"/></a>"
      ]
    },
    {
      "cell_type": "markdown",
      "source": [
        "1.Introduction To Modular Programming:-\n",
        "\n",
        "Modular programming is a software design approach that breaks a program into smaller, independent modules or components.Each module is responsible for a specific task or functionality.This approach promotes code organization,reusability,and easier maintenance.\n",
        "\n",
        "2.Importing Modules and Different Import Statement:-\n",
        "\n",
        "In python,we can import modules using various statements.\n",
        "\n",
        "*import module_name:-\n",
        "\n",
        "This is the most common way to import a module.it makes all the functions, variables,and classes defined in the module accessible using dot notation,like\n",
        "'module_name.function()'."
      ],
      "metadata": {
        "id": "fjyI_8PIchSy"
      }
    },
    {
      "cell_type": "code",
      "source": [
        "import math\n",
        "print(math.sqrt(4540))"
      ],
      "metadata": {
        "colab": {
          "base_uri": "https://localhost:8080/"
        },
        "id": "a6eslc60ghcw",
        "outputId": "9513dabc-6ccd-4651-ff10-cf42c369a2b7"
      },
      "execution_count": null,
      "outputs": [
        {
          "output_type": "stream",
          "name": "stdout",
          "text": [
            "67.37952211169207\n"
          ]
        }
      ]
    },
    {
      "cell_type": "markdown",
      "source": [
        "*import module_name as alias:-\n",
        "\n",
        "You can import a module with an alias, allowing you to use a shorter or more meaningful name."
      ],
      "metadata": {
        "id": "DSPpJgWfg0N0"
      }
    },
    {
      "cell_type": "code",
      "source": [
        "import math as a\n",
        "print(a.sqrt(3506395))"
      ],
      "metadata": {
        "colab": {
          "base_uri": "https://localhost:8080/"
        },
        "id": "vpohggSuhPjS",
        "outputId": "5590e5d1-e8bf-4fbb-f2a9-fed80240db20"
      },
      "execution_count": null,
      "outputs": [
        {
          "output_type": "stream",
          "name": "stdout",
          "text": [
            "1872.5370490326754\n"
          ]
        }
      ]
    },
    {
      "cell_type": "markdown",
      "source": [
        "*from module_name import function_name:-\n",
        "\n",
        "This statement imports a specific function or variable from a module directly into your code.You can use it without the module prefix."
      ],
      "metadata": {
        "id": "mnEXPFEjhakd"
      }
    },
    {
      "cell_type": "code",
      "source": [
        "from math import sqrt\n",
        "print(sqrt(334455))"
      ],
      "metadata": {
        "colab": {
          "base_uri": "https://localhost:8080/"
        },
        "id": "ONyLyydTh-B8",
        "outputId": "5d64656f-0404-424c-bf9d-943505809416"
      },
      "execution_count": null,
      "outputs": [
        {
          "output_type": "stream",
          "name": "stdout",
          "text": [
            "578.3208452061883\n"
          ]
        }
      ]
    },
    {
      "cell_type": "markdown",
      "source": [
        "3.Types Of Modules:-\n",
        "\n",
        "In python,there are different types of modules:\n",
        "\n",
        "1.Built-in Modules:-\n",
        "\n",
        "Python comes with a wide range of built-in modules,like 'math','random',and 'os',which provide various functionalities that you can readily use in your programs.\n",
        "\n",
        "1.math:-\n",
        "\n",
        " Provides mathematical functions and constants.\n",
        "\n",
        "\n",
        "2.random:-\n",
        "\n",
        " Allows you to work with random numbers and make random selections.\n",
        "datetime: Offers classes for working with dates and times.\n",
        "3.os:-\n",
        "\n",
        " Provides a way to interact with the operating system, including file operations.\n",
        "\n",
        "4.sys:-\n",
        "\n",
        "Gives access to Python interpreter variables and functions.\n",
        "5.json:-\n",
        "\n",
        " Enables JSON (JavaScript Object Notation) encoding and decoding.\n",
        "collections: Offers alternative data structures like namedtuples, deques, and defaultdict.\n",
        "6.re:-\n",
        "\n",
        " Supports regular expressions for pattern matching and manipulation.\n",
        "7.pickle:-\n",
        "\n",
        " Allows object serialization and deserialization.\n",
        "8.csv:-\n",
        "\n",
        "Facilitates reading and writing CSV (Comma-Separated Values) files.\n",
        "\n",
        "\n",
        "9.urllib:-\n",
        "\n",
        " Provides tools for working with URLs and making HTTP requests.\n",
        "\n",
        "\n",
        "10.sqlite3:-\n",
        "\n",
        " Enables interaction with SQLite databases.\n",
        "\n",
        "\n",
        "11.argparse:-\n",
        "\n",
        "Helps create command-line interfaces for your Python programs.\n",
        "\n",
        "\n",
        "12.time:-\n",
        "\n",
        " Offers functions for measuring time and managing time-related tasks.\n",
        "\n",
        "\n",
        "13.logging:-\n",
        "\n",
        " Allows you to configure and manage application logging.\n",
        "\n",
        "\n",
        "14.os.path:-\n",
        "\n",
        " Provides path manipulation functions for working with file paths.\n",
        "\n",
        "2.Third-Party Modules:-\n",
        "\n",
        "These are modules created by the python community or external developers.You can install them using package managers like 'pip'.\n",
        "They extend python's capabilities and cover a wide range of applications.\n",
        "\n",
        "1.NumPy:-\n",
        "\n",
        "Used for numerical computing, providing support for large, multi-dimensional arrays and matrices, as well as mathematical functions to operate on these arrays.\n",
        "\n",
        "2.Pandas:-\n",
        "\n",
        "A data manipulation and analysis library that provides data structures like DataFrames and Series, making it easy to work with structured data.\n",
        "\n",
        "3.Matplotlib:-\n",
        "\n",
        " A popular plotting library for creating static, animated, or interactive visualizations in Python.\n",
        "\n",
        "4.Seaborn:-\n",
        "\n",
        " Built on top of Matplotlib, Seaborn provides a high-level interface for creating attractive and informative statistical graphics.\n",
        "\n",
        "5.Scikit-learn:-\n",
        "\n",
        "A machine learning library that offers tools for data mining and data analysis, including classification, regression, clustering, and more.\n",
        "\n",
        "3.Standarad Library Modules:-\n",
        "\n",
        "These are modules that are part of Python's\n",
        "Standard library and provide various functionalities like file handling,math operations,and more."
      ],
      "metadata": {
        "id": "TR6lLpSEiD_d"
      }
    }
  ]
}