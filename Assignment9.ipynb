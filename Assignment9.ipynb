{
  "nbformat": 4,
  "nbformat_minor": 0,
  "metadata": {
    "colab": {
      "provenance": [],
      "authorship_tag": "ABX9TyOj2SuS2K50L25ZSE8N+n8Z",
      "include_colab_link": true
    },
    "kernelspec": {
      "name": "python3",
      "display_name": "Python 3"
    },
    "language_info": {
      "name": "python"
    }
  },
  "cells": [
    {
      "cell_type": "markdown",
      "metadata": {
        "id": "view-in-github",
        "colab_type": "text"
      },
      "source": [
        "<a href=\"https://colab.research.google.com/github/Aswinimedisetti28/Tech_Leads-Assignment/blob/main/Assignment9.ipynb\" target=\"_parent\"><img src=\"https://colab.research.google.com/assets/colab-badge.svg\" alt=\"Open In Colab\"/></a>"
      ]
    },
    {
      "cell_type": "markdown",
      "source": [
        "# File Handling:\n",
        "1.  Use of File Handling?\n",
        "2. Type of Files.\n",
        "3. File Operation.\n",
        "4. What is File Handling?\n",
        "5. Why do we need File Handling?\n",
        "\n",
        "**1. Use of File Handling?**\n",
        "\n",
        "- File handling refers to the process of `creating, reading, writing, updating, and managing files` on a computre's storage system.\n",
        "- It is an essential part of programming and is used in various applications and sowfare to store, retrive, and manipilating data.\n",
        "\n",
        "**2.Types of Files:**\n",
        "\n",
        "**There are several types of files, including:**\n",
        "\n",
        "- **a. Text Files:**\n",
        "\n",
        "  These files store textual data and are typically in plain text format.\n",
        "\n",
        "  **Examples:**\n",
        "  include.txt, csv, .xml, and .json files\n",
        "- **b. Binary Files:**\n",
        "\n",
        "   Binary files contain non-textual data, such as images, videos, executables, and database files.\n",
        "   \n",
        "   They are not human-readable and require specific programs to interpret their contents.\n",
        "- **c. Configuration Files:**\n",
        "\n",
        "   These files store configuration settings for software applications.\n",
        "\n",
        "   **Example:** include .ini, .cfg, and.conf files.\n",
        "- **d. Database Files:**\n",
        "   These files are used to store structured data in a database format.\n",
        "\n",
        "   **Example:** include .db, .sql, and.mdb files.\n",
        "\n",
        "- **e. Compressed Files:**\n",
        "   \n",
        "   These files are archives that contain one or more files and are compressed to reduce storage space.\n",
        "\n",
        "   **Example:** include .zip, tar, and .rar files.\n",
        "\n",
        "- **f. Special Files:**\n",
        "    \n",
        "  Special files represent various hardware\n",
        "  devices and system resources Unix-like operating systems.\n",
        "\n",
        "  **Example:** include device files(/dev) and symbolic links.\n",
        "\n",
        "**3. File Operations:**\n",
        "\n",
        "File handling involves several common operations, such as:\n",
        "\n",
        "- **a.Opening a File:**\n",
        "To access a file, it must be opened using an appropriate mode, such as reading, writing, or appending.\n",
        "- **B.Reading from a File:** Reading data from a file allows you to retreive its contents and use them in your program.\n",
        "- **c. Writing to a file:** Writing data to a file enables you to store information for later retrieval or modification.\n",
        "- **d. Appending to a File:** Appending datanto a file adds new content to the end of an existing file without overwritting its contents.\n",
        "- **e. Closing a File:** After performing file operations, it's important to close the file to release system resources and ensure data integrity.\n",
        "- **f. Moving, Renaming, and Deleting Files:** These operations involve changing the location, name, or removing files from the file system.\n",
        "\n",
        "**4.What is File Handling?**\n",
        "\n",
        "- File handling is the  process of managing and manipulating files in a computer system. it encompasses tasks like creating, opening, reading, writing, updating and closing files.\n",
        "- File handling is an integer part of programming, as it allows software to interact with external data  sources, store user preferences, and maintain persistent data.\n",
        "\n",
        "**5. Why do we need File Handling?**\n",
        "- Filehandling is crucial for several reasons:\n",
        "\n",
        "- **a.Data Storage:** It allows programs to store data persistently on disk, ensuring  that information is retained even after the program exits.\n",
        "- **b. Data Retrieval:** File handling enables the retreival of stored data, allowing programs to access and use previously saved information.\n",
        "- **c. Configuration Management:** Many applications use files to store configuration settings, making it easy to customize software behaviour.\n",
        "- **d. Data sharing:** Files provide a common medium for sharing data between different programs and users.\n",
        "- **e. Logging and Error Handling:** Files are often used for logging program activities and errors. which aids in debugging and monitoring.\n",
        "- **f. Back and Recovery:** File handling allows for creating backup copies of important data,\n",
        " which can be essential for disaster recovery.\n",
        "\n",
        "\n",
        "\n",
        "\n",
        "\n",
        "\n",
        "\n",
        "\n",
        "  \n"
      ],
      "metadata": {
        "id": "EQwu54za5cJO"
      }
    },
    {
      "cell_type": "markdown",
      "source": [
        "# Reading a Text File:"
      ],
      "metadata": {
        "id": "JW9ZERmsy1Wt"
      }
    },
    {
      "cell_type": "code",
      "source": [
        "# Open a file for reading\n",
        "with open('example.txt', 'r') as file:\n",
        "    content = file.read()\n",
        "    print(content)\n"
      ],
      "metadata": {
        "id": "hWStA_K3ylED"
      },
      "execution_count": null,
      "outputs": []
    },
    {
      "cell_type": "markdown",
      "source": [
        "# Writing a Text File:"
      ],
      "metadata": {
        "id": "NyEpJkeky-QJ"
      }
    },
    {
      "cell_type": "code",
      "source": [
        "# Open a file for writing (creates a new file if it doesn't exist)\n",
        "with open('output.txt', 'w') as file:\n",
        "    file.write('This is some text that we are writing to the file.')\n"
      ],
      "metadata": {
        "id": "vChjXKUVyths"
      },
      "execution_count": null,
      "outputs": []
    },
    {
      "cell_type": "markdown",
      "source": [
        "# Appending a Text file"
      ],
      "metadata": {
        "id": "X0zeBKuBzPSM"
      }
    },
    {
      "cell_type": "code",
      "source": [
        "# Open a file for appending (creates a new file if it doesn't exist)\n",
        "with open('output.txt', 'a') as file:\n",
        "    file.write('\\nThis line is appended to the file.')\n"
      ],
      "metadata": {
        "id": "CzWTitUpz5px"
      },
      "execution_count": null,
      "outputs": []
    },
    {
      "cell_type": "markdown",
      "source": [
        "# Copying a Binary File:"
      ],
      "metadata": {
        "id": "NcAxOxkj0IZg"
      }
    },
    {
      "cell_type": "code",
      "source": [
        "# Copying a binary file (e.g., an image)\n",
        "with open('input.jpg', 'rb') as source, open('output.jpg', 'wb') as destination:\n",
        "    destination.write(source.read())\n"
      ],
      "metadata": {
        "id": "ZFFedteq0R3-"
      },
      "execution_count": null,
      "outputs": []
    },
    {
      "cell_type": "markdown",
      "source": [
        "# Deleting a File:"
      ],
      "metadata": {
        "id": "rH_ZkAwm0mLG"
      }
    },
    {
      "cell_type": "code",
      "source": [
        "import os\n",
        "\n",
        "# Delete a file\n",
        "if os.path.exists('file_to_delete.txt'):\n",
        "    os.remove('file_to_delete.txt')\n",
        "else:\n",
        "    print(\"The file does not exist.\")\n"
      ],
      "metadata": {
        "colab": {
          "base_uri": "https://localhost:8080/"
        },
        "id": "dpJdMI1J0yiK",
        "outputId": "eed6fcb6-d1b8-4cae-d382-1c1bafb9be44"
      },
      "execution_count": null,
      "outputs": [
        {
          "output_type": "stream",
          "name": "stdout",
          "text": [
            "The file does not exist.\n"
          ]
        }
      ]
    }
  ]
}